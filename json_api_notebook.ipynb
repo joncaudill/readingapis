{
 "cells": [
  {
   "cell_type": "code",
   "execution_count": 14,
   "id": "b9428a38",
   "metadata": {},
   "outputs": [],
   "source": [
    "import json\n",
    "from urllib.request import urlopen\n"
   ]
  },
  {
   "cell_type": "code",
   "execution_count": 15,
   "id": "1afa8d1e",
   "metadata": {},
   "outputs": [
    {
     "name": "stdout",
     "output_type": "stream",
     "text": [
      "{\"help\": \"https://www.data.qld.gov.au/api/3/action/help_show?name=datastore_search\", \"success\": true, \"result\": {\"include_total\": true, \"limit\": 5, \"records_format\": \"objects\", \"resource_id\": \"7afe7233-fae0-4024-bc98-3a72f05675bd\", \"total_estimation_threshold\": null, \"records\": [{\"_id\": 1, \"Site\": \"abellpoint\", \"Seconds\": \"1747231200\", \"DateTime\": \"2025-05-15T00:00\", \"Water Level\": \"3.333\", \"Prediction\": \"3.118\", \"Residual\": \"0.215\", \"Latitude\": \"-20.2608\", \"Longitude\": \"148.7103\"}, {\"_id\": 2, \"Site\": \"abellpoint\", \"Seconds\": \"1747231800\", \"DateTime\": \"2025-05-15T00:10\", \"Water Level\": \"3.310\", \"Prediction\": \"3.100\", \"Residual\": \"0.210\", \"Latitude\": \"-20.2608\", \"Longitude\": \"148.7103\"}, {\"_id\": 3, \"Site\": \"abellpoint\", \"Seconds\": \"1747232400\", \"DateTime\": \"2025-05-15T00:20\", \"Water Level\": \"3.263\", \"Prediction\": \"3.073\", \"Residual\": \"0.190\", \"Latitude\": \"-20.2608\", \"Longitude\": \"148.7103\"}, {\"_id\": 4, \"Site\": \"abellpoint\", \"Seconds\": \"1747233000\", \"DateTime\": \"2025-05-15T00:30\", \"Water Level\": \"3.208\", \"Prediction\": \"3.038\", \"Residual\": \"0.170\", \"Latitude\": \"-20.2608\", \"Longitude\": \"148.7103\"}, {\"_id\": 5, \"Site\": \"abellpoint\", \"Seconds\": \"1747233600\", \"DateTime\": \"2025-05-15T00:40\", \"Water Level\": \"3.153\", \"Prediction\": \"2.995\", \"Residual\": \"0.158\", \"Latitude\": \"-20.2608\", \"Longitude\": \"148.7103\"}], \"fields\": [{\"id\": \"_id\", \"type\": \"int\"}, {\"id\": \"Site\", \"type\": \"text\"}, {\"id\": \"Seconds\", \"type\": \"text\"}, {\"id\": \"DateTime\", \"type\": \"text\"}, {\"id\": \"Water Level\", \"type\": \"text\"}, {\"id\": \"Prediction\", \"type\": \"text\"}, {\"id\": \"Residual\", \"type\": \"text\"}, {\"id\": \"Latitude\", \"type\": \"text\"}, {\"id\": \"Longitude\", \"type\": \"text\"}], \"_links\": {\"start\": \"/api/action/datastore_search?limit=5&resource_id=7afe7233-fae0-4024-bc98-3a72f05675bd\", \"next\": \"/api/action/datastore_search?limit=5&resource_id=7afe7233-fae0-4024-bc98-3a72f05675bd&offset=5\"}, \"total\": 63742, \"total_was_estimated\": false}}\n"
     ]
    }
   ],
   "source": [
    "url = \"https://data.qld.gov.au/api/action/datastore_search?resource_id=7afe7233-fae0-4024-bc98-3a72f05675bd&limit=5\"\n",
    "url_result = urlopen(url)\n",
    "raw_data = url_result.read()\n",
    "json_data = json.loads(raw_data)\n",
    "json_string = json.dumps(json_data)\n",
    "print(json_string)"
   ]
  },
  {
   "cell_type": "code",
   "execution_count": 16,
   "id": "3df42763",
   "metadata": {},
   "outputs": [
    {
     "name": "stdout",
     "output_type": "stream",
     "text": [
      "{'include_total': True, 'limit': 5, 'records_format': 'objects', 'resource_id': '7afe7233-fae0-4024-bc98-3a72f05675bd', 'total_estimation_threshold': None, 'records': [{'_id': 1, 'Site': 'abellpoint', 'Seconds': '1747231200', 'DateTime': '2025-05-15T00:00', 'Water Level': '3.333', 'Prediction': '3.118', 'Residual': '0.215', 'Latitude': '-20.2608', 'Longitude': '148.7103'}, {'_id': 2, 'Site': 'abellpoint', 'Seconds': '1747231800', 'DateTime': '2025-05-15T00:10', 'Water Level': '3.310', 'Prediction': '3.100', 'Residual': '0.210', 'Latitude': '-20.2608', 'Longitude': '148.7103'}, {'_id': 3, 'Site': 'abellpoint', 'Seconds': '1747232400', 'DateTime': '2025-05-15T00:20', 'Water Level': '3.263', 'Prediction': '3.073', 'Residual': '0.190', 'Latitude': '-20.2608', 'Longitude': '148.7103'}, {'_id': 4, 'Site': 'abellpoint', 'Seconds': '1747233000', 'DateTime': '2025-05-15T00:30', 'Water Level': '3.208', 'Prediction': '3.038', 'Residual': '0.170', 'Latitude': '-20.2608', 'Longitude': '148.7103'}, {'_id': 5, 'Site': 'abellpoint', 'Seconds': '1747233600', 'DateTime': '2025-05-15T00:40', 'Water Level': '3.153', 'Prediction': '2.995', 'Residual': '0.158', 'Latitude': '-20.2608', 'Longitude': '148.7103'}], 'fields': [{'id': '_id', 'type': 'int'}, {'id': 'Site', 'type': 'text'}, {'id': 'Seconds', 'type': 'text'}, {'id': 'DateTime', 'type': 'text'}, {'id': 'Water Level', 'type': 'text'}, {'id': 'Prediction', 'type': 'text'}, {'id': 'Residual', 'type': 'text'}, {'id': 'Latitude', 'type': 'text'}, {'id': 'Longitude', 'type': 'text'}], '_links': {'start': '/api/action/datastore_search?limit=5&resource_id=7afe7233-fae0-4024-bc98-3a72f05675bd', 'next': '/api/action/datastore_search?limit=5&resource_id=7afe7233-fae0-4024-bc98-3a72f05675bd&offset=5'}, 'total': 63742, 'total_was_estimated': False}\n"
     ]
    }
   ],
   "source": [
    "result = json_data['result']\n",
    "print(result)"
   ]
  },
  {
   "cell_type": "code",
   "execution_count": 17,
   "id": "4fbf4b84",
   "metadata": {},
   "outputs": [
    {
     "name": "stdout",
     "output_type": "stream",
     "text": [
      "[{'_id': 1, 'Site': 'abellpoint', 'Seconds': '1747231200', 'DateTime': '2025-05-15T00:00', 'Water Level': '3.333', 'Prediction': '3.118', 'Residual': '0.215', 'Latitude': '-20.2608', 'Longitude': '148.7103'}, {'_id': 2, 'Site': 'abellpoint', 'Seconds': '1747231800', 'DateTime': '2025-05-15T00:10', 'Water Level': '3.310', 'Prediction': '3.100', 'Residual': '0.210', 'Latitude': '-20.2608', 'Longitude': '148.7103'}, {'_id': 3, 'Site': 'abellpoint', 'Seconds': '1747232400', 'DateTime': '2025-05-15T00:20', 'Water Level': '3.263', 'Prediction': '3.073', 'Residual': '0.190', 'Latitude': '-20.2608', 'Longitude': '148.7103'}, {'_id': 4, 'Site': 'abellpoint', 'Seconds': '1747233000', 'DateTime': '2025-05-15T00:30', 'Water Level': '3.208', 'Prediction': '3.038', 'Residual': '0.170', 'Latitude': '-20.2608', 'Longitude': '148.7103'}, {'_id': 5, 'Site': 'abellpoint', 'Seconds': '1747233600', 'DateTime': '2025-05-15T00:40', 'Water Level': '3.153', 'Prediction': '2.995', 'Residual': '0.158', 'Latitude': '-20.2608', 'Longitude': '148.7103'}]\n"
     ]
    }
   ],
   "source": [
    "records = result['records']\n",
    "print(records)"
   ]
  },
  {
   "cell_type": "code",
   "execution_count": 18,
   "id": "d6d348a2",
   "metadata": {},
   "outputs": [
    {
     "name": "stdout",
     "output_type": "stream",
     "text": [
      "abellpoint\n",
      "2025-05-15T00:00\n",
      "3.333\n",
      "3.118\n",
      "0.215\n"
     ]
    }
   ],
   "source": [
    "first_record = records[0]\n",
    "print(first_record['Site'])\n",
    "print(first_record['DateTime'])\n",
    "print(first_record['Water Level'])\n",
    "print(first_record['Prediction'])\n",
    "print(first_record['Residual'])"
   ]
  },
  {
   "cell_type": "code",
   "execution_count": 19,
   "id": "725f4f9f",
   "metadata": {},
   "outputs": [
    {
     "name": "stdout",
     "output_type": "stream",
     "text": [
      "[['abellpoint', '2025-05-15T00:00', '3.333', '3.118', '0.215'], ['abellpoint', '2025-05-15T00:10', '3.310', '3.100', '0.210'], ['abellpoint', '2025-05-15T00:20', '3.263', '3.073', '0.190'], ['abellpoint', '2025-05-15T00:30', '3.208', '3.038', '0.170'], ['abellpoint', '2025-05-15T00:40', '3.153', '2.995', '0.158']]\n"
     ]
    }
   ],
   "source": [
    "records_data = []\n",
    "for record in records:\n",
    "    record_data = [\n",
    "        record['Site'],\n",
    "        record['DateTime'],\n",
    "        record['Water Level'],\n",
    "        record['Prediction'],\n",
    "        record['Residual']\n",
    "    ]\n",
    "    records_data.append(record_data)\n",
    "print(records_data)"
   ]
  },
  {
   "cell_type": "code",
   "execution_count": 20,
   "id": "1d47b6e6",
   "metadata": {},
   "outputs": [],
   "source": [
    "headers = 'Site, DateTime, Water Level, Prediction, Residual'\n",
    "with open('storm_tide_data.csv', 'w') as f:\n",
    "    f.write(headers + '\\n')\n",
    "    for record_data in records_data:\n",
    "        f.write(', '.join(map(str, record_data)) + '\\n')"
   ]
  }
 ],
 "metadata": {
  "kernelspec": {
   "display_name": "Python 3",
   "language": "python",
   "name": "python3"
  },
  "language_info": {
   "codemirror_mode": {
    "name": "ipython",
    "version": 3
   },
   "file_extension": ".py",
   "mimetype": "text/x-python",
   "name": "python",
   "nbconvert_exporter": "python",
   "pygments_lexer": "ipython3",
   "version": "3.13.3"
  }
 },
 "nbformat": 4,
 "nbformat_minor": 5
}
