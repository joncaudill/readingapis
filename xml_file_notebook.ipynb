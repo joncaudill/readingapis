{
 "cells": [
  {
   "cell_type": "code",
   "execution_count": 13,
   "id": "d118bdc7",
   "metadata": {},
   "outputs": [],
   "source": [
    "from urllib.request import urlopen\n",
    "import json\n",
    "from bs4 import BeautifulSoup as soup"
   ]
  },
  {
   "cell_type": "code",
   "execution_count": 14,
   "id": "9e449f3c",
   "metadata": {},
   "outputs": [],
   "source": [
    "xml_file = \"Air Quality Data XML.xml\"\n",
    "with open(xml_file, \"r\") as file:\n",
    "    xml_content = file.read()\n",
    "xml_soup = soup(xml_content, \"xml\")"
   ]
  },
  {
   "cell_type": "code",
   "execution_count": 15,
   "id": "9a3d7dd8",
   "metadata": {},
   "outputs": [
    {
     "name": "stdout",
     "output_type": "stream",
     "text": [
      "<region information=\"http://www.qld.gov.au/environment/pollution/monitoring/air-monitoring/seq/\" name=\"South East Queensland\">\n",
      "<station information=\"http://www.qld.gov.au/environment/pollution/monitoring/air-monitoring/seq/#mountaincreek\" latitude=\"-26.6917\" longitude=\"153.104\" name=\"Mountain Creek\">\n",
      "<measurement index=\"1\" name=\"Nitrogen Dioxide\" rating=\"1\" rating_name=\"Very Good\">0.001</measurement>\n",
      "<measurement index=\"17\" name=\"Ozone\" rating=\"1\" rating_name=\"Very Good\">0.017</measurement>\n",
      "<measurement index=\"40\" name=\"Particle PM10\" rating=\"2\" rating_name=\"Good\">20</measurement>\n",
      "<measurement index=\"14\" name=\"Visibility\" rating=\"1\" rating_name=\"Very Good\">33</measurement>\n",
      "</station>\n",
      "<station information=\"http://www.qld.gov.au/environment/pollution/monitoring/air-monitoring/seq/#deception\" latitude=\"-27.4296\" longitude=\"153.158\" name=\"Deception Bay\">\n",
      "<measurement index=\"2\" name=\"Nitrogen Dioxide\" rating=\"1\" rating_name=\"Very Good\">0.002</measurement>\n",
      "<measurement index=\"18\" name=\"Ozone\" rating=\"1\" rating_name=\"Very Good\">0.018</measurement>\n",
      "</station>\n",
      "<station information=\"http://www.qld.gov.au/environment/pollution/monitoring/air-monitoring/seq/#wynnum\" latitude=\"-27.4296\" longitude=\"153.158\" name=\"Wynnum\">\n",
      "<measurement index=\"6\" name=\"Nitrogen Dioxide\" rating=\"1\" rating_name=\"Very Good\">0.007</measurement>\n",
      "<measurement index=\"1\" name=\"Sulfur Dioxide\" rating=\"1\" rating_name=\"Very Good\">0.001</measurement>\n",
      "<measurement index=\"33\" name=\"Particle PM10\" rating=\"1\" rating_name=\"Very Good\">16.4</measurement>\n",
      "<measurement index=\"21\" name=\"Particle PM2.5\" rating=\"1\" rating_name=\"Very Good\">5.3</measurement>\n",
      "</station>\n",
      "<station information=\"http://www.qld.gov.au/environment/pollution/monitoring/air-monitoring/seq/#wynnum\" latitude=\"-27.4379\" longitude=\"153.15\" name=\"Wynnum West\">\n",
      "<measurement index=\"1\" name=\"Sulfur Dioxide\" rating=\"1\" rating_name=\"Very Good\">0.002</measurement>\n",
      "<measurement index=\"29\" name=\"Particle PM10\" rating=\"1\" rating_name=\"Very Good\">14.7</measurement>\n",
      "<measurement index=\"19\" name=\"Particle PM2.5\" rating=\"1\" rating_name=\"Very Good\">4.8</measurement>\n",
      "</station>\n",
      "<station information=\"http://www.qld.gov.au/environment/pollution/monitoring/air-monitoring/seq/#wynnum\" latitude=\"-27.4065\" longitude=\"153.153\" name=\"Lytton\">\n",
      "<measurement index=\"0\" name=\"Sulfur Dioxide\" rating=\"1\" rating_name=\"Very Good\">0</measurement>\n",
      "<measurement index=\"35\" name=\"Particle PM10\" rating=\"2\" rating_name=\"Good\">17.7</measurement>\n",
      "<measurement index=\"22\" name=\"Particle PM2.5\" rating=\"1\" rating_name=\"Very Good\">5.4</measurement>\n",
      "</station>\n",
      "<station information=\"http://www.qld.gov.au/environment/pollution/monitoring/air-monitoring/seq/#cannonhill\" latitude=\"-27.4654\" longitude=\"153.087\" name=\"Cannon Hill\">\n",
      "<measurement index=\"15\" name=\"Ozone\" rating=\"1\" rating_name=\"Very Good\">0.015</measurement>\n",
      "<measurement index=\"30\" name=\"Particles TSP\" rating=\"1\" rating_name=\"Very Good\">23.7</measurement>\n",
      "<measurement index=\"33\" name=\"Particle PM10\" rating=\"1\" rating_name=\"Very Good\">16.6</measurement>\n",
      "<measurement index=\"31\" name=\"Particle PM2.5\" rating=\"1\" rating_name=\"Very Good\">7.8</measurement>\n",
      "</station>\n",
      "<station information=\"http://www.qld.gov.au/environment/pollution/monitoring/air-monitoring/seq/#cbd\" latitude=\"-27.4774\" longitude=\"153.028\" name=\"Brisbane CBD\">\n",
      "<measurement index=\"34\" name=\"Particle PM10\" rating=\"2\" rating_name=\"Good\">16.8</measurement>\n",
      "<measurement index=\"12\" name=\"Visibility\" rating=\"1\" rating_name=\"Very Good\">28</measurement>\n",
      "</station>\n",
      "<station information=\"http://www.qld.gov.au/environment/pollution/monitoring/air-monitoring/seq/#gabba\" latitude=\"-27.4975\" longitude=\"153.035\" name=\"Woolloongabba\">\n",
      "<measurement index=\"0\" name=\"Carbon Monoxide\" rating=\"1\" rating_name=\"Very Good\">0</measurement>\n",
      "<measurement index=\"7\" name=\"Nitrogen Dioxide\" rating=\"1\" rating_name=\"Very Good\">0.008</measurement>\n",
      "<measurement index=\"49\" name=\"Particle PM10\" rating=\"2\" rating_name=\"Good\">24.3</measurement>\n",
      "<measurement index=\"60\" name=\"Particle PM2.5\" rating=\"2\" rating_name=\"Good\">15.1</measurement>\n",
      "</station>\n",
      "<station information=\"http://www.qld.gov.au/environment/pollution/monitoring/air-monitoring/seq/#southbris\" latitude=\"-27.4848\" longitude=\"153.032\" name=\"South Brisbane\">\n",
      "<measurement index=\"1\" name=\"Carbon Monoxide\" rating=\"1\" rating_name=\"Very Good\">0.1</measurement>\n",
      "<measurement index=\"8\" name=\"Nitrogen Dioxide\" rating=\"1\" rating_name=\"Very Good\">0.01</measurement>\n",
      "<measurement index=\"39\" name=\"Particle PM10\" rating=\"2\" rating_name=\"Good\">19.5</measurement>\n",
      "<measurement index=\"37\" name=\"Particle PM2.5\" rating=\"2\" rating_name=\"Good\">9.2</measurement>\n",
      "</station>\n",
      "<station information=\"http://www.qld.gov.au/environment/pollution/monitoring/air-monitoring/seq/#rocklea\" latitude=\"-27.5358\" longitude=\"152.993\" name=\"Rocklea\">\n",
      "<measurement index=\"4\" name=\"Nitrogen Dioxide\" rating=\"1\" rating_name=\"Very Good\">0.005</measurement>\n",
      "<measurement index=\"12\" name=\"Ozone\" rating=\"1\" rating_name=\"Very Good\">0.012</measurement>\n",
      "<measurement index=\"33\" name=\"Particle PM10\" rating=\"1\" rating_name=\"Very Good\">16.4</measurement>\n",
      "<measurement index=\"33\" name=\"Particle PM2.5\" rating=\"1\" rating_name=\"Very Good\">8.3</measurement>\n",
      "<measurement index=\"17\" name=\"Visibility\" rating=\"1\" rating_name=\"Very Good\">40</measurement>\n",
      "</station>\n",
      "<station information=\"http://www.qld.gov.au/environment/pollution/monitoring/air-monitoring/seq/#springwood\" latitude=\"-27.6125\" longitude=\"153.136\" name=\"Springwood\">\n",
      "<measurement index=\"10\" name=\"Nitrogen Dioxide\" rating=\"1\" rating_name=\"Very Good\">0.012</measurement>\n",
      "<measurement index=\"-4999500\" name=\"Sulfur Dioxide\" rating=\"0\" rating_name=\"Not Available\">-9999</measurement>\n",
      "<measurement index=\"30\" name=\"Particle PM10\" rating=\"1\" rating_name=\"Very Good\">15</measurement>\n",
      "<measurement index=\"32\" name=\"Particle PM2.5\" rating=\"1\" rating_name=\"Very Good\">7.9</measurement>\n",
      "</station>\n",
      "<station information=\"http://www.qld.gov.au/environment/pollution/monitoring/air-monitoring/seq/#northmaclean\" latitude=\"-27.7708\" longitude=\"153.03\" name=\"North Maclean\">\n",
      "<measurement index=\"3\" name=\"Nitrogen Dioxide\" rating=\"1\" rating_name=\"Very Good\">0.003</measurement>\n",
      "<measurement index=\"7\" name=\"Ozone\" rating=\"1\" rating_name=\"Very Good\">0.007</measurement>\n",
      "</station>\n",
      "<station information=\"https://www.qld.gov.au/environment/pollution/monitoring/air-monitoring/seq#southport\" latitude=\"-27.9612\" longitude=\"153.402\" name=\"Southport\">\n",
      "<measurement index=\"2\" name=\"Nitrogen Dioxide\" rating=\"1\" rating_name=\"Very Good\">0.002</measurement>\n",
      "<measurement index=\"24\" name=\"Ozone\" rating=\"1\" rating_name=\"Very Good\">0.024</measurement>\n",
      "<measurement index=\"36\" name=\"Particle PM10\" rating=\"2\" rating_name=\"Good\">17.9</measurement>\n",
      "<measurement index=\"32\" name=\"Particle PM2.5\" rating=\"1\" rating_name=\"Very Good\">8</measurement>\n",
      "</station>\n",
      "<station information=\"http://www.qld.gov.au/environment/pollution/monitoring/air-monitoring/seq/#flinders\" latitude=\"-27.6528\" longitude=\"152.774\" name=\"Flinders View\">\n",
      "<measurement index=\"2\" name=\"Nitrogen Dioxide\" rating=\"1\" rating_name=\"Very Good\">0.002</measurement>\n",
      "<measurement index=\"12\" name=\"Ozone\" rating=\"1\" rating_name=\"Very Good\">0.012</measurement>\n",
      "<measurement index=\"0\" name=\"Sulfur Dioxide\" rating=\"1\" rating_name=\"Very Good\">0</measurement>\n",
      "<measurement index=\"43\" name=\"Particle PM10\" rating=\"2\" rating_name=\"Good\">21.5</measurement>\n",
      "<measurement index=\"21\" name=\"Visibility\" rating=\"1\" rating_name=\"Very Good\">49</measurement>\n",
      "</station>\n",
      "<station information=\"http://www.qld.gov.au/environment/pollution/monitoring/air-monitoring/seq/#mutdapilly\" latitude=\"-27.7528\" longitude=\"152.651\" name=\"Mutdapilly\">\n",
      "<measurement index=\"3\" name=\"Nitrogen Dioxide\" rating=\"1\" rating_name=\"Very Good\">0.003</measurement>\n",
      "<measurement index=\"12\" name=\"Ozone\" rating=\"1\" rating_name=\"Very Good\">0.012</measurement>\n",
      "</station>\n",
      "</region>\n"
     ]
    }
   ],
   "source": [
    "southeastQueensland = xml_soup.find_all('region', {'name' : 'South East Queensland'})\n",
    "southeastQueensland = southeastQueensland[0] \n",
    "print(southeastQueensland)"
   ]
  },
  {
   "cell_type": "code",
   "execution_count": 19,
   "id": "9792a068",
   "metadata": {},
   "outputs": [
    {
     "name": "stdout",
     "output_type": "stream",
     "text": [
      "<station information=\"http://www.qld.gov.au/environment/pollution/monitoring/air-monitoring/seq/#mountaincreek\" latitude=\"-26.6917\" longitude=\"153.104\" name=\"Mountain Creek\">\n",
      "<measurement index=\"1\" name=\"Nitrogen Dioxide\" rating=\"1\" rating_name=\"Very Good\">0.001</measurement>\n",
      "<measurement index=\"17\" name=\"Ozone\" rating=\"1\" rating_name=\"Very Good\">0.017</measurement>\n",
      "<measurement index=\"40\" name=\"Particle PM10\" rating=\"2\" rating_name=\"Good\">20</measurement>\n",
      "<measurement index=\"14\" name=\"Visibility\" rating=\"1\" rating_name=\"Very Good\">33</measurement>\n",
      "</station>\n"
     ]
    }
   ],
   "source": [
    "stations = southeastQueensland.find_all('station' , {})\n",
    "first_station = stations[0]\n",
    "print(first_station)"
   ]
  },
  {
   "cell_type": "code",
   "execution_count": 20,
   "id": "fc1fb4b6",
   "metadata": {},
   "outputs": [],
   "source": [
    "headers = 'station name', 'nitrogen dioxide', 'ozone', 'carbon monoxide', 'sulphur dioxide', 'particulate matter 10', 'particulate matter 2.5', 'particle tsp', 'visibility'\n"
   ]
  },
  {
   "cell_type": "code",
   "execution_count": 24,
   "id": "b9709a4b",
   "metadata": {},
   "outputs": [],
   "source": [
    "filename = 'xmloutairquality.csv'\n",
    "with open(filename, 'w') as f:\n",
    "    f.write(','.join(headers) + '\\n')\n",
    "\n",
    "    for station in stations:\n",
    "        station_string = ''\n",
    "        station_name = station['name']\n",
    "        nd = station.find_all('measurement', {'name': 'Nitrogen Dioxide'})\n",
    "        nd = '' if len(nd)==0 else nd[0].text\n",
    "        o3 = station.find_all('measurement', {'name': 'Ozone'})\n",
    "        o3 = '' if len(o3)==0 else o3[0].text\n",
    "        co = station.find_all('measurement', {'name': 'Carbon Monoxide'})\n",
    "        co = '' if len(co)==0 else co[0].text\n",
    "        so2 = station.find_all('measurement', {'name': 'Sulphur Dioxide'})\n",
    "        so2 = '' if len(so2)==0 else so2[0].text\n",
    "        pm10 = station.find_all('measurement', {'name': 'Particle PM10'})\n",
    "        pm10 = '' if len(pm10)==0 else pm10[0].text\n",
    "        pm2_5 = station.find_all('measurement', {'name': 'Particle PM2.5'})\n",
    "        pm2_5 = '' if len(pm2_5)==0 else pm2_5[0].text\n",
    "        tsp = station.find_all('measurement', {'name': 'Particle TSP'})\n",
    "        tsp = '' if len(tsp)==0 else tsp[0].text\n",
    "        visibility = station.find_all('measurement', {'name': 'Visibility'})\n",
    "        visibility = '' if len(visibility)==0 else visibility[0].text\n",
    "        station_string = f\"{station_name}, {nd}, {o3}, {co}, {so2}, {pm10}, {pm2_5}, {tsp}, {visibility}\"\n",
    "        f.write(station_string + '\\n')\n"
   ]
  }
 ],
 "metadata": {
  "kernelspec": {
   "display_name": "Python 3",
   "language": "python",
   "name": "python3"
  },
  "language_info": {
   "codemirror_mode": {
    "name": "ipython",
    "version": 3
   },
   "file_extension": ".py",
   "mimetype": "text/x-python",
   "name": "python",
   "nbconvert_exporter": "python",
   "pygments_lexer": "ipython3",
   "version": "3.13.3"
  }
 },
 "nbformat": 4,
 "nbformat_minor": 5
}
